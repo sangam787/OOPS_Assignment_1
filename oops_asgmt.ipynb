{
 "cells": [
  {
   "cell_type": "code",
   "execution_count": null,
   "id": "6feb5280-1349-41a5-a655-5a6f9ee3dc2f",
   "metadata": {},
   "outputs": [],
   "source": [
    "\n",
    "\"OOPS ASSIGNMENT QUESTIONS AND ANSWERS\"\n",
    "\n",
    "\"Que-1. What are the five key concepts of Object-Oriented Programming (OOP)?\" \n",
    "\"\"\"\n",
    "The five key concepts of Object-Oriented Programming(OOP) are :\n",
    "(1)- Classes and Objects\n",
    "A class is a blueprint for creating objects, which are instances of the class. \n",
    "A class defines the properties and behaviors of its objects\n",
    "\n",
    "(2)- Inheritance\n",
    "This mechanism allows classes to inherit properties and behaviors from parent classes.\n",
    "\n",
    "(3)- Polymorphism\n",
    "This principle allows objects to take on multiple forms, meaning the same object \n",
    "can behave differently depending on the context.\n",
    "\n",
    "(4)- Encapsulation\n",
    "This concept involves hiding an object's internal details and only exposing the necessary information.\n",
    "\n",
    "(5)- Abstraction\n",
    "This is a way to simplify complex reality by modeling classes on essential properties and behaviors..\n"
   ]
  },
  {
   "cell_type": "code",
   "execution_count": 10,
   "id": "2b065632-62ab-41b9-8a75-8eeb47a1ed86",
   "metadata": {
    "editable": true,
    "slideshow": {
     "slide_type": ""
    },
    "tags": []
   },
   "outputs": [
    {
     "name": "stdout",
     "output_type": "stream",
     "text": [
      "The name of car  is ford\n",
      "model number is ABCXX\n",
      "year is 2024\n",
      "None\n"
     ]
    }
   ],
   "source": [
    "\"\"\"\n",
    "Que-2. Write a Python class for a 'Car with attributes for 'make', 'model', \n",
    "and 'year'. Include a method to display the car's information. \n",
    "\"\"\"\n",
    "\n",
    "\"defining a class named 'Car'\"\n",
    "class Car():\n",
    "    def __init__(self, name , model, year):\n",
    "        self.name = name\n",
    "        self.model = model\n",
    "        self.year = year\n",
    "   \n",
    "    def car_information(self):\n",
    "        print(\"The name of car  is {}\".format(self.name))\n",
    "        print(\"model number is {}\".format(self.model))\n",
    "        print(\"year is {}\".format(self.year))    \n",
    "    \n",
    "        \n",
    "car1 = Car(\"ford\", \"ABCXX\", 2024)\n",
    "print(car1.car_information())\n"
   ]
  },
  {
   "cell_type": "code",
   "execution_count": 11,
   "id": "1b78916b-331b-42ca-9647-b9225e71a941",
   "metadata": {},
   "outputs": [
    {
     "name": "stdout",
     "output_type": "stream",
     "text": [
      "Hi, I'm Sangam and I study in PWskills.\n"
     ]
    }
   ],
   "source": [
    "\"\"\"\n",
    "Que-3. Explain the difference between instance methods and class methods. \n",
    "Provide an example of each. \n",
    "\n",
    "\n",
    "(1)-Instance Methods in Python:-\n",
    "Instance methods are the most common type of methods in Python classes. \n",
    "They are associated with instances of a class and operate on the instance's data. \n",
    "When defining an instance method, the method's first parameter is typically named self, \n",
    "which refers to the instance calling the method. This allows the method to access \n",
    "and manipulate the instance's attributes.\n",
    "for example-\n",
    "\"\"\"\n",
    "class Student:\n",
    "    def __init__(self, name, institute):\n",
    "        self.name = name\n",
    "        self.institute = institute\n",
    "\n",
    "    def introduce(self):\n",
    "        return f\"Hi, I'm {self.name} and I study in {self.institute}.\"\n",
    "\n",
    "\n",
    "# Creating an instance of the class\n",
    "stu1 = Student(\"Sangam\", \"PWskills\")\n",
    "\n",
    "# Calling the instance method\n",
    "print(stu1.introduce())  \n"
   ]
  },
  {
   "cell_type": "code",
   "execution_count": 12,
   "id": "66afed2d-afdf-4abb-98de-c41eec761cfe",
   "metadata": {},
   "outputs": [
    {
     "name": "stdout",
     "output_type": "stream",
     "text": [
      "3\n",
      "10\n"
     ]
    }
   ],
   "source": [
    "\"\"\"\n",
    "(2)-Class Method in Python:-\n",
    "\n",
    "Class methods are associated with the class rather than instances. \n",
    "They are defined using the @classmethod decorator and take the class itself \n",
    "as the first parameter, usually named cls. Class methods are useful for tasks \n",
    "that involve the class rather than the instance, such as creating class-specific \n",
    "behaviors or modifying class-level attributes.\n",
    "for example-\n",
    "\"\"\"\n",
    "class MyClass:\n",
    "    class_variable = 0\n",
    "\n",
    "    def __init__(self, value):\n",
    "        self.instance_variable = value\n",
    "\n",
    "    @classmethod\n",
    "    def class_method(cls, x):\n",
    "        cls.class_variable += x\n",
    "        return cls.class_variable\n",
    "\n",
    "# Creating instances of the class\n",
    "obj1 = MyClass(5)\n",
    "obj2 = MyClass(10)\n",
    "\n",
    "# Calling the class method\n",
    "print(MyClass.class_method(3))  # Output: 3\n",
    "print(MyClass.class_method(7))  # Output: 10\n"
   ]
  },
  {
   "cell_type": "code",
   "execution_count": 17,
   "id": "d3ea8958-7ca1-45e0-8f56-0bcab6ad0693",
   "metadata": {},
   "outputs": [
    {
     "name": "stdout",
     "output_type": "stream",
     "text": [
      "120\n",
      "100\n"
     ]
    }
   ],
   "source": [
    "\n",
    "\"\"\"\n",
    "4. How does Python implement method overloading? Give an example. \n",
    "Method Overloading:\n",
    "\n",
    "Two or more methods have the same name but different numbers of \n",
    "parameters or different types of parameters, or both. These methods are \n",
    "called overloaded methods and this is called method overloading. \n",
    "The problem with method overloading in Python is that we may overload the methods but can only use the latest defined method. \n",
    "for example\n",
    "\"\"\"\n",
    "# First product method.\n",
    "# Takes two argument and print their\n",
    "# product\n",
    "\n",
    "\n",
    "def product(a, b):\n",
    "    p = a * b\n",
    "    print(p)\n",
    "\n",
    "# Second product method\n",
    "# Takes three argument and print their\n",
    "# product\n",
    "\n",
    "\n",
    "def product(a, b, c):\n",
    "    p = a * b*c\n",
    "    print(p)\n",
    "\n",
    "# Uncommenting the below line shows an error\n",
    "product(4,6,5)\n",
    "\n",
    "\n",
    "# This line will call the second product method\n",
    "product(4, 5, 5)\n",
    "\n"
   ]
  },
  {
   "cell_type": "code",
   "execution_count": 20,
   "id": "b0a64ab5-a034-4259-980a-47c765d14d66",
   "metadata": {},
   "outputs": [
    {
     "name": "stdout",
     "output_type": "stream",
     "text": [
      "List of fields and methods inside obj: ['Age', 'Name', '__class__', '__delattr__', '__dict__', '__dir__', '__doc__', '__eq__', '__format__', '__ge__', '__getattribute__', '__getstate__', '__gt__', '__hash__', '__init__', '__init_subclass__', '__le__', '__lt__', '__module__', '__ne__', '__new__', '__reduce__', '__reduce_ex__', '__repr__', '__setattr__', '__sizeof__', '__str__', '__subclasshook__', '__weakref__', 'displayAge']\n",
      "Name: Sangam\n",
      "Age:  25\n"
     ]
    }
   ],
   "source": [
    "\"\"\"\n",
    "Que-5. What are the three types of access modifiers in Python? How are they denoted? \n",
    "\n",
    "Answer:-\n",
    "A Class in Python has three types of access modifiers:\n",
    "\n",
    "(1)Public Access Modifier: Theoretically, public methods and fields can be accessed directly by any class.\n",
    "class Geek:\n",
    "\"\"\"\n",
    "class Pwskills:  \n",
    "   \n",
    "    # constructor\n",
    "    def __init__(self, name, age):\n",
    "\n",
    "        # public data members\n",
    "        self.Name = name\n",
    "        self.Age = age\n",
    "\n",
    "    # public member function\n",
    "    def displayAge(self):\n",
    "\n",
    "        # accessing public data member\n",
    "        print(\"Age: \", self.Age)\n",
    "\n",
    "\n",
    "# creating object of the class\n",
    "obj = Pwskills(\"Sangam\", 25)\n",
    "\n",
    "# finding all the fields and methods which are present inside obj\n",
    "print(\"List of fields and methods inside obj:\", dir(obj))\n",
    "\n",
    "# accessing public data member\n",
    "print(\"Name:\", obj.Name)\n",
    "\n",
    "# calling public member function of the class\n",
    "obj.displayAge()\n"
   ]
  },
  {
   "cell_type": "code",
   "execution_count": null,
   "id": "86f37320-b4db-41be-bcad-848a9c80d3a6",
   "metadata": {},
   "outputs": [],
   "source": [
    "\n",
    "\"(2)Protected Access Modifier: Theoretically, protected methods and fields can be accessed within the same\" \n",
    "# class it is declared and its subclass.\n",
    "class  Student:\n",
    "\n",
    "    # protected data members\n",
    "    _name = None\n",
    "    _roll = None\n",
    "    _branch = None\n",
    "\n",
    "    # constructor\n",
    "    def __init__(self, name, roll, branch):\n",
    "        self._name = name\n",
    "        self._roll = roll\n",
    "        self._branch = branch\n",
    "\n",
    "    # protected member function\n",
    "    def _displayRollAndBranch(self):\n",
    "\n",
    "        # accessing protected data members\n",
    "        print(\"Roll:\", self._roll)\n",
    "        print(\"Branch:\", self._branch)\n",
    "# Pwskills(Student):\n",
    "\n",
    "    # constructor\n",
    "    def __init__(self, name, roll, branch):\n",
    "        Student.__init__(self, name, roll, branch)\n",
    "\n",
    "    # public member function\n",
    "    def displayDetails(self):\n",
    "\n",
    "              # accessing protected data members of super class\n",
    "        print(\"Name:\", self._name)\n",
    "\n",
    "        # accessing protected member functions of super class\n",
    "        self._displayRollAndBranch()\n",
    "\n",
    "\n",
    "stu = Student(\"Sangam\", 1234567, \"Computer Science\")\n",
    "print(dir(stu))\n",
    "\n",
    "# protected members and methods can be still accessed\n",
    "print(stu._name)\n",
    "stu._displayRollAndBranch()\n",
    "\n",
    "# Throws error\n",
    "# print(stu.name)\n",
    "# stu.displayRollAndBranch()\n",
    "\n",
    "# creating objects of the derived class\n",
    "obj = Pwskills(\"Subham\", 1706256, \"Information Technology\")\n",
    "print(\"\")\n",
    "print(dir(obj))\n",
    "\n",
    "# calling public member functions of the class\n",
    "obj.displayDetails()\n"
   ]
  },
  {
   "cell_type": "code",
   "execution_count": 6,
   "id": "bbcca040-665f-4b50-934f-9fa4f1a65a70",
   "metadata": {},
   "outputs": [
    {
     "name": "stdout",
     "output_type": "stream",
     "text": [
      "['_PWskills__branch', '_PWskills__displayDetails', '_PWskills__name', '_PWskills__roll', '__class__', '__delattr__', '__dict__', '__dir__', '__doc__', '__eq__', '__format__', '__ge__', '__getattribute__', '__getstate__', '__gt__', '__hash__', '__init__', '__init_subclass__', '__le__', '__lt__', '__module__', '__ne__', '__new__', '__reduce__', '__reduce_ex__', '__repr__', '__setattr__', '__sizeof__', '__str__', '__subclasshook__', '__weakref__', 'accessPrivateFunction']\n",
      "\n",
      "Sangam Mishra\n",
      "1706256\n",
      "Data Analytics\n",
      "Name: Sangam Mishra\n",
      "Roll: 1706256\n",
      "Branch: Data Analytics\n",
      "\n",
      "Name: Sangam Mishra\n",
      "Roll: 1706256\n",
      "Branch: Data Analytics\n"
     ]
    }
   ],
   "source": [
    "\"(3)Private Access Modifier: Theoretically, private methods and fields can be only accessed within the same class it is declared.\"\n",
    "class PWskills:\n",
    "\n",
    "    # private members\n",
    "    __name = None\n",
    "    __roll = None\n",
    "    __branch = None\n",
    "\n",
    "    # constructor\n",
    "    def __init__(self, name, roll, branch):\n",
    "        self.__name = name\n",
    "        self.__roll = roll\n",
    "        self.__branch = branch\n",
    "\n",
    "    # private member function\n",
    "    def __displayDetails(self):\n",
    "\n",
    "        # accessing private data members\n",
    "        print(\"Name:\", self.__name)\n",
    "        print(\"Roll:\", self.__roll)\n",
    "        print(\"Branch:\", self.__branch)\n",
    "\n",
    "    # public member function\n",
    "    def accessPrivateFunction(self):\n",
    "\n",
    "        # accessing private member function\n",
    "        self.__displayDetails()\n",
    "\n",
    "# creating object\n",
    "obj = PWskills(\"Sangam Mishra\", 1706256, \"Data Analytics\")\n",
    "\n",
    "print(dir(obj))\n",
    "print(\"\")\n",
    "\n",
    "# Throws error\n",
    "# obj.__name\n",
    "# obj.__roll\n",
    "# obj.__branch\n",
    "# obj.__displayDetails()\n",
    "\n",
    "# To access private members of a class\n",
    "print(obj._PWskills__name)\n",
    "print(obj._PWskills__roll)\n",
    "print(obj._PWskills__branch)\n",
    "obj._PWskills__displayDetails()\n",
    "\n",
    "print(\"\")\n",
    "\n",
    "# calling public member function of the class\n",
    "obj.accessPrivateFunction()\n"
   ]
  },
  {
   "cell_type": "code",
   "execution_count": 23,
   "id": "380df708-1d6f-480b-a3d4-97aaa7a5ce60",
   "metadata": {},
   "outputs": [
    {
     "name": "stdout",
     "output_type": "stream",
     "text": [
      "Father : Ram\n",
      "mother : Sita\n"
     ]
    }
   ],
   "source": [
    "\n",
    "\"\"\"\n",
    "6. Describe the five types of inheritance in Python. Provide a simple \n",
    "example of multiple inheritance.\n",
    "\n",
    "Inheritance is defined as the mechanism of inheriting the properties of the base class to the child class.\n",
    "There are five types of inheritance in Python.\n",
    "\n",
    "(1)- Single Inheritance:- Single inheritance enables a derived class to inherit properties from a \n",
    "single parent class, thus enabling code reusability and the addition of new features to existing code.\n",
    "\"\"\"\n",
    "\"\"\"\n",
    "(2)- Multiple Inheritance:- When a class can be derived from more than one base class this type of inheritance \n",
    "is called multiple inheritances. In multiple inheritances, all the features of the base classes are inherited \n",
    "into the derived class. \n",
    "\"\"\"\n",
    "    #Base class 1\n",
    "class Mother:\n",
    "    mothername = \"\"\n",
    "    def mother(self):\n",
    "        print(self.mothername)\n",
    "     # Base class 2\n",
    "class Father:\n",
    "    fathername = \"\"\n",
    "    def father(self):\n",
    "        print(self.fathername)\n",
    "     # Derived class\n",
    "class Son(Mother, Father):\n",
    "    def Parents(self):\n",
    "        print(\"Father :\", self.fathername)\n",
    "        print(\"mother :\", self.mothername)\n",
    "\n",
    "S1 = Son()\n",
    "S1.fathername = \"Ram\"\n",
    "S1.mothername = \"Sita\"\n",
    "S1.Parents()\n"
   ]
  },
  {
   "cell_type": "code",
   "execution_count": null,
   "id": "a559f262-b738-40ac-b216-d89655ae2e6d",
   "metadata": {},
   "outputs": [],
   "source": [
    "\"\"\"\n",
    "(3)- Multilevel Inheritance:- In multilevel inheritance, features of the base class and the derived class \n",
    "are further inherited into the new derived class. This is similar to a relationship representing a child and a grandfather. \n",
    "\n",
    "(4)- Hierarchical Inheritance:- When more than one derived class are created from a single base this type of \n",
    "inheritance is called hierarchical inheritance.\n",
    "(5)- Hybrid Inheritance:- Inheritance consisting of multiple types of inheritance is called hybrid inheritance.\n",
    "\"\"\""
   ]
  },
  {
   "cell_type": "code",
   "execution_count": 24,
   "id": "2f4ec76d-884c-4826-8a66-d968f6c9f4a1",
   "metadata": {},
   "outputs": [
    {
     "name": "stdout",
     "output_type": "stream",
     "text": [
      "[<class '__main__.Class4'>, <class '__main__.Class2'>, <class '__main__.Class3'>, <class '__main__.Class1'>, <class 'object'>]\n",
      "(<class '__main__.Class4'>, <class '__main__.Class2'>, <class '__main__.Class3'>, <class '__main__.Class1'>, <class 'object'>)\n"
     ]
    }
   ],
   "source": [
    "\"\"\"\n",
    "7. What is the Method Resolution Order (MRO) in Python? How can you \n",
    "retrieve it programmatically?\n",
    "\n",
    "Method resolution order:\n",
    "In Python, every class whether built-in or user-defined is derived from the object class and all the objects \n",
    "are instances of the class object. Hence, the object class is the base class for all the other classes.\n",
    "In the case of multiple inheritance, a given attribute is first searched in the current class if it's not found \n",
    "then it's searched in the parent classes. The parent classes are searched in a left-right fashion and each \n",
    "class is searched once.\n",
    "The order that is followed is known as a linearization of the class Derived and this order is found out using \n",
    "a set of rules called Method Resolution Order (MRO).\n",
    "To view the MRO of a class: \n",
    " \n",
    "\n",
    "Use the mro() method, it returns a list \n",
    "Eg. Class4.mro()\n",
    "Use the _mro_ attribute, it returns a tuple \n",
    "Eg. Class4.__mro__ \n",
    "\"\"\"\n",
    "# Python program to demonstrate\n",
    "# super()\n",
    "\n",
    "class Class1:\n",
    "\tdef m(self):\n",
    "\t\tprint(\"In Class1\")\n",
    "\n",
    "class Class2(Class1):\n",
    "\tdef m(self):\n",
    "\t\tprint(\"In Class2\")\n",
    "\t\tsuper().m()\n",
    "\n",
    "class Class3(Class1):\n",
    "\tdef m(self):\n",
    "\t\tprint(\"In Class3\")\n",
    "\t\tsuper().m()\n",
    "\n",
    "class Class4(Class2, Class3):\n",
    "\tdef m(self):\n",
    "\t\tprint(\"In Class4\") \n",
    "\t\tsuper().m()\n",
    "\t\n",
    "print(Class4.mro())\t\t #This will print list\n",
    "print(Class4.__mro__)\t #This will print tuple\n"
   ]
  },
  {
   "cell_type": "code",
   "execution_count": 26,
   "id": "d1d4aa9c-1830-48f2-9812-c1d72b342f23",
   "metadata": {},
   "outputs": [
    {
     "name": "stdout",
     "output_type": "stream",
     "text": [
      "Calculate Shape Area\n"
     ]
    },
    {
     "name": "stdin",
     "output_type": "stream",
     "text": [
      "Enter the name of shape whose area you want to find:  circle\n",
      "Enter circle's radius length:  4\n"
     ]
    },
    {
     "name": "stdout",
     "output_type": "stream",
     "text": [
      "The area of circle is 50.24.\n",
      "None\n"
     ]
    }
   ],
   "source": [
    "\"\"\"\n",
    "8. Create an abstract base class 'Shape' with an abstract method area(). \n",
    "Then create two subclasses \"Circle' and 'Rectangle that implement the 'area() method. \n",
    "\n",
    "define a function for calculating\n",
    "the area of a shapes\n",
    "\"\"\"\n",
    "def calculate_area(name):\n",
    "    # name = name.lower()\n",
    "\n",
    "# converting all characters\n",
    "# into lower cases\n",
    "     \n",
    "\n",
    "# check for the conditions\n",
    "\tif name == \"rectangle\":\n",
    "\t\tl = int(input(\"Enter rectangle's length: \"))\n",
    "\t\tb = int(input(\"Enter rectangle's breadth: \"))\n",
    "\t\n",
    "\t# calculate area of rectangle\n",
    "\t\trect_area = l * b\n",
    "\t\tprint(f\"The area of rectangle is {rect_area}.\")\n",
    "\n",
    "\t\n",
    "\telif name == \"circle\":\n",
    "\t\tr = int(input(\"Enter circle's radius length: \"))\n",
    "\t\tpi = 3.14\n",
    "\t\t\n",
    "\t# calculate area of circle\n",
    "\t\tcirc_area = pi * r * r\n",
    "\t\tprint(f\"The area of circle is {circ_area}.\")\n",
    "\t\t\n",
    "\t\n",
    "\telse:\n",
    "\t\tprint(\"Sorry! This shape is not available\")\n",
    "\n",
    "# driver code\n",
    "if __name__ == \"__main__\" :\n",
    "\n",
    " print(\"Calculate Shape Area\")\n",
    "shape_name = input(\"Enter the name of shape whose area you want to find: \")\n",
    "\n",
    "# function calling\n",
    "print(calculate_area(\"circle\"))\n"
   ]
  },
  {
   "cell_type": "code",
   "execution_count": 1,
   "id": "412e30c5-2566-4981-8a7b-b18cad99c0ae",
   "metadata": {},
   "outputs": [
    {
     "name": "stdout",
     "output_type": "stream",
     "text": [
      "Calculate Shape Area\n"
     ]
    },
    {
     "name": "stdin",
     "output_type": "stream",
     "text": [
      "Enter the name of shape whose area you want to find:  square\n",
      "Enter square's side length:  4\n"
     ]
    },
    {
     "name": "stdout",
     "output_type": "stream",
     "text": [
      "The area of square is 16.\n",
      "None\n"
     ]
    }
   ],
   "source": [
    "\"9. Demonstrate polymorphism by creating a function that can work with different shape objects to calculate and print their areas.\" \n",
    "\n",
    "# # define a function for calculating\n",
    "# # the area of a shapes\n",
    "def calculate_area(name):\n",
    "    # name = name.lower()\n",
    "\n",
    "# converting all characters\n",
    "# into lower cases\n",
    "     \n",
    "\n",
    "# check for the conditions\n",
    "\tif name == \"rectangle\":\n",
    "\t\tl = int(input(\"Enter rectangle's length: \"))\n",
    "\t\tb = int(input(\"Enter rectangle's breadth: \"))\n",
    "\t\n",
    "\t# calculate area of rectangle\n",
    "\t\trect_area = l * b\n",
    "\t\tprint(f\"The area of rectangle is {rect_area}.\")\n",
    "\n",
    "\telif name == \"square\":\n",
    "\t\ts = int(input(\"Enter square's side length: \"))\n",
    "\t\n",
    "\t# calculate area of square\n",
    "\t\tsqt_area = s * s\n",
    "\t\tprint(f\"The area of square is {sqt_area}.\")\n",
    "\n",
    "\telif name == \"triangle\":\n",
    "\t\th = int(input(\"Enter triangle's height length: \"))\n",
    "\t\tb = int(input(\"Enter triangle's breadth length: \"))\n",
    "\t\n",
    "\t# calculate area of triangle\n",
    "\t\ttri_area = 0.5 * b * h\n",
    "\t\tprint(f\"The area of triangle is {tri_area}.\")\n",
    "\n",
    "\telif name == \"circle\":\n",
    "\t\tr = int(input(\"Enter circle's radius length: \"))\n",
    "\t\tpi = 3.14\n",
    "\t\t\n",
    "\t# calculate area of circle\n",
    "\t\tcirc_area = pi * r * r\n",
    "\t\tprint(f\"The area of circle is {circ_area}.\")\n",
    "\t\t\n",
    "\telif name == 'parallelogram':\n",
    "\t\tb = int(input(\"Enter parallelogram's base length: \"))\n",
    "\t\th = int(input(\"Enter parallelogram's height length: \"))\n",
    "\t\n",
    "\t# calculate area of parallelogram\n",
    "\t\tpara_area = b * h\n",
    "\t\tprint(f\"The area of parallelogram is {para_area}.\")\n",
    "\t\n",
    "\telse:\n",
    "\t\tprint(\"Sorry! This shape is not available\")\n",
    "\n",
    "# driver code\n",
    "if __name__ == \"__main__\" :\n",
    "\n",
    " print(\"Calculate Shape Area\")\n",
    "shape_name = input(\"Enter the name of shape whose area you want to find: \")\n",
    "\n",
    "# function calling\n",
    "print(calculate_area(\"square\"))\n",
    "\n"
   ]
  },
  {
   "cell_type": "code",
   "execution_count": 2,
   "id": "e74ef264-6cee-4fa4-bbf5-214b37ecce29",
   "metadata": {},
   "outputs": [
    {
     "name": "stdout",
     "output_type": "stream",
     "text": [
      "Hello!!! Welcome to the Deposit & Withdrawal Machine\n"
     ]
    },
    {
     "name": "stdin",
     "output_type": "stream",
     "text": [
      "Enter amount to be Deposited:  5000\n"
     ]
    },
    {
     "name": "stdout",
     "output_type": "stream",
     "text": [
      "\n",
      " Amount Deposited: 5000.0\n"
     ]
    },
    {
     "name": "stdin",
     "output_type": "stream",
     "text": [
      "Enter amount to be Withdrawn:  2000\n"
     ]
    },
    {
     "name": "stdout",
     "output_type": "stream",
     "text": [
      "\n",
      " You Withdrew: 2000.0\n",
      "\n",
      " Net Available Balance= 3000.0\n"
     ]
    }
   ],
   "source": [
    "\"\"\"\n",
    "10. Implement encapsulation in a 'BankAccount class with private attributes for \n",
    "'balance and account_number'. Include methods for deposit, withdrawal, and balance inquiry. \n",
    "\"\"\"\n",
    "# Python program to create Bankaccount class\n",
    "# with both a deposit() and a withdraw() function\n",
    "class Bank_Account:\n",
    "\tdef __init__(self):\n",
    "\t\tself.balance=0\n",
    "\t\tprint(\"Hello!!! Welcome to the Deposit & Withdrawal Machine\")\n",
    "\n",
    "\tdef deposit(self):\n",
    "\t\tamount=float(input(\"Enter amount to be Deposited: \"))\n",
    "\t\tself.balance += amount\n",
    "\t\tprint(\"\\n Amount Deposited:\",amount)\n",
    "\n",
    "\tdef withdraw(self):\n",
    "\t\tamount = float(input(\"Enter amount to be Withdrawn: \"))\n",
    "\t\tif self.balance>=amount:\n",
    "\t\t\tself.balance-=amount\n",
    "\t\t\tprint(\"\\n You Withdrew:\", amount)\n",
    "\t\telse:\n",
    "\t\t\tprint(\"\\n Insufficient balance \")\n",
    "\n",
    "\tdef display(self):\n",
    "\t\tprint(\"\\n Net Available Balance=\",self.balance)\n",
    "\n",
    "# Driver code\n",
    "\n",
    "# creating an object of class\n",
    "s = Bank_Account()\n",
    "\n",
    "# Calling functions with that class object\n",
    "s.deposit()\n",
    "s.withdraw()\n",
    "s.display()\n"
   ]
  },
  {
   "cell_type": "code",
   "execution_count": null,
   "id": "740cefcb-cfdd-4e45-a786-8d43aa0923d4",
   "metadata": {},
   "outputs": [],
   "source": [
    "\"\"\"\n",
    "11. Write a class that overrides the_str_and_add__magic methods. \n",
    "What will these methods allow you to do? \n",
    "\"\"\""
   ]
  },
  {
   "cell_type": "code",
   "execution_count": 3,
   "id": "8437aba8-81d5-4342-848f-0d26007cd5ba",
   "metadata": {},
   "outputs": [
    {
     "name": "stdout",
     "output_type": "stream",
     "text": [
      "Function calculate_multiply took 0.0000 seconds to execute\n",
      "Result: 120\n"
     ]
    }
   ],
   "source": [
    "\n",
    "\"\"\"\n",
    "12. Create a decorator that measures and prints the execution time of a function. \n",
    "import time\n",
    "\"\"\"\n",
    "import time\n",
    "\n",
    "def measure_execution_time(func):\n",
    "    def wrapper(*args, **kwargs):\n",
    "        start_time = time.time()\n",
    "        result = func(*args, **kwargs)\n",
    "        end_time = time.time()\n",
    "        execution_time = end_time - start_time\n",
    "        print(f\"Function {func.__name__} took {execution_time:.4f} seconds to execute\")\n",
    "        return result\n",
    "    return wrapper\n",
    "\n",
    "# Example usage\n",
    "@measure_execution_time\n",
    "def calculate_multiply(numbers):\n",
    "    tot = 1\n",
    "    for x in numbers:\n",
    "        tot *= x\n",
    "    return tot\n",
    "\n",
    "# Call the decorated function\n",
    "result = calculate_multiply([1, 2, 3, 4, 5])\n",
    "print(\"Result:\", result)\n"
   ]
  },
  {
   "cell_type": "code",
   "execution_count": 4,
   "id": "e1d898c3-834e-421c-b45b-316cf6aa3dd9",
   "metadata": {},
   "outputs": [
    {
     "name": "stdout",
     "output_type": "stream",
     "text": [
      "Display method from class B\n",
      "[<class '__main__.D'>, <class '__main__.B'>, <class '__main__.C'>, <class '__main__.A'>, <class 'object'>]\n"
     ]
    }
   ],
   "source": [
    "\"\"\"\n",
    "13. Explain the concept of the Diamond Problem in multiple inheritance. \n",
    "How does Python resolve it? \n",
    "\n",
    "The \"diamond problem\" (also sometimes referred to as the \"deadly diamond of death\") \n",
    "is an ambiguity that arises when a class inherits from two or more classes that have one common superclass.\n",
    "Python's Solution to the Diamond Problem\n",
    "Python has a way to address this issue, it uses an approach called Method Resolution Order (MRO), which follows \n",
    "the C3 linearization or just \"C3 superclass linearization\". This algorithm assures that a class always precedes \n",
    "its parents and a parent precedes the other parent if it's derived from it. Python also has super() function that \n",
    "helps with dynamic dispatching.\n",
    "\"\"\"\n",
    "class A:\n",
    "    def display(self):\n",
    "        print(\"Display method from class A\")\n",
    "\n",
    "class B(A):\n",
    "    def display(self):\n",
    "        print(\"Display method from class B\")\n",
    "\n",
    "class C(A):\n",
    "    def display(self):\n",
    "        print(\"Display method from class C\")\n",
    "\n",
    "class D(B, C):\n",
    "    pass\n",
    "\n",
    "d = D()\n",
    "d.display()\n",
    "print(D.mro())\n",
    "\n"
   ]
  },
  {
   "cell_type": "code",
   "execution_count": 5,
   "id": "b6e83d33-8861-4977-bfe9-1bb73aacd6b2",
   "metadata": {},
   "outputs": [
    {
     "name": "stdout",
     "output_type": "stream",
     "text": [
      "3\n"
     ]
    }
   ],
   "source": [
    "\"14. Write a class method that keeps track of the number of instances created from a class.\" \n",
    "\"\"\"\n",
    "Instances of a class mean the objects created for a particular class. A single class can have \n",
    "multiple objects of it. Here, we will find the count of the number of instances of a class in Python.\n",
    "\"\"\"\n",
    "# code \n",
    "class Pwskills: \n",
    "\t\n",
    "\t# this is used to print the number \n",
    "\t# of instances of a class \n",
    "\tcounter = 0\n",
    "\n",
    "\t# constructor of Pwskills class \n",
    "\tdef __init__(self): \n",
    "\t\t\n",
    "\t\t# increment \n",
    "\t\tPwskills.counter += 1\n",
    "\n",
    "\n",
    "# object or instance of Pwskills class \n",
    "stu1 = Pwskills() \n",
    "stu2 = Pwskills() \n",
    "stu3 = Pwskills() \n",
    "print(Pwskills.counter) \n"
   ]
  }
 ],
 "metadata": {
  "kernelspec": {
   "display_name": "Python 3 (ipykernel)",
   "language": "python",
   "name": "python3"
  },
  "language_info": {
   "codemirror_mode": {
    "name": "ipython",
    "version": 3
   },
   "file_extension": ".py",
   "mimetype": "text/x-python",
   "name": "python",
   "nbconvert_exporter": "python",
   "pygments_lexer": "ipython3",
   "version": "3.12.7"
  }
 },
 "nbformat": 4,
 "nbformat_minor": 5
}
